{
 "cells": [
  {
   "cell_type": "markdown",
   "metadata": {},
   "source": [
    "# K-Means analysis \n",
    "\n",
    "Los datos para este trabajo fueron tomados de la plataforma Kaggle:\n",
    "https://www.kaggle.com/datasets/nanditapore/credit-risk-analysis?resource=download\n",
    "\n",
    "## ¿Qué es K-means?\n",
    "**K-means** es un algoritmo de clustering (agrupamiento) que se utiliza en aprendizaje no supervisado para dividir un conjunto de datos en grupos o clústeres basados en la similitud de sus elementos. El objetivo del algoritmo K-means es particionar los datos en K clústeres de tal manera que cada punto de datos pertenezca al clúster cuyo centroide (punto central) es el más cercano. En resumen, K-means busca encontrar K centroides que minimicen la suma de las distancias cuadradas entre los puntos de datos y sus centroides asignados.\n",
    "\n",
    "**K-means++**, por otro lado, es una mejora del algoritmo K-means que se utiliza para inicializar los centroides de manera más eficiente y efectiva. En K-means tradicional, la inicialización de los centroides puede ser aleatoria, lo que puede llevar a soluciones subóptimas o convergencia a mínimos locales. K-means++ aborda este problema seleccionando los centroides iniciales de una manera que aumenta las posibilidades de converger a una solución de alta calidad.\n",
    "\n",
    "Dentro del código de estre trabajo no se especifica de manera explícita que se está trabajando con K-Means++, pero por default sklearn.cluster.KMeans trabaja con la versión optimizada de este método de clustering.\n",
    "\n",
    "## ¿En qué consiste la información del dataset seleccionado?\n",
    "La descripción que se proporciona en la plataforma de Kaggle para este set de datos menciona lo siguiente: \n",
    "_\"This dataset offers a simplified view of the factors that contribute to credit risk, making it an excellent opportunity for data scientists ...\"_\n",
    "\n",
    "## ¿Qué se busca analizar a través del uso de K-Means?\n",
    "A través del uso de K-Means, se busca analizar y agrupar a los individuos o elementos en categorías o **clústeres que compartan similitudes en sus perfiles de riesgo crediticio**. Esto permitirá una comprensión más profunda de los factores que contribuyen al riesgo crediticio y facilitará la toma de decisiones informadas en el ámbito financiero. Los clústeres obtenidos pueden representar grupos de individuos con características crediticias similares, lo que puede ser útil para segmentar la clientela, identificar tendencias y patrones, y mejorar la gestión de riesgos crediticios."
   ]
  },
  {
   "cell_type": "code",
   "execution_count": 1,
   "metadata": {},
   "outputs": [
    {
     "name": "stdout",
     "output_type": "stream",
     "text": [
      "   Id  Age  Income      Home  Emp_length     Intent  Amount   Rate  Status  \\\n",
      "0   0   22   59000      RENT       123.0   PERSONAL   35000  16.02       1   \n",
      "1   1   21    9600       OWN         5.0  EDUCATION    1000  11.14       0   \n",
      "2   2   25    9600  MORTGAGE         1.0    MEDICAL    5500  12.87       1   \n",
      "3   3   23   65500      RENT         4.0    MEDICAL   35000  15.23       1   \n",
      "4   4   24   54400      RENT         8.0    MEDICAL   35000  14.27       1   \n",
      "\n",
      "   Percent_income Default  Cred_length  \n",
      "0            0.59       Y            3  \n",
      "1            0.10       N            2  \n",
      "2            0.57       N            3  \n",
      "3            0.53       N            2  \n",
      "4            0.55       Y            4  \n",
      "<class 'pandas.core.frame.DataFrame'>\n",
      "RangeIndex: 32581 entries, 0 to 32580\n",
      "Data columns (total 12 columns):\n",
      " #   Column          Non-Null Count  Dtype  \n",
      "---  ------          --------------  -----  \n",
      " 0   Id              32581 non-null  int64  \n",
      " 1   Age             32581 non-null  int64  \n",
      " 2   Income          32581 non-null  int64  \n",
      " 3   Home            32581 non-null  object \n",
      " 4   Emp_length      31686 non-null  float64\n",
      " 5   Intent          32581 non-null  object \n",
      " 6   Amount          32581 non-null  int64  \n",
      " 7   Rate            29465 non-null  float64\n",
      " 8   Status          32581 non-null  int64  \n",
      " 9   Percent_income  32581 non-null  float64\n",
      " 10  Default         32581 non-null  object \n",
      " 11  Cred_length     32581 non-null  int64  \n",
      "dtypes: float64(3), int64(6), object(3)\n",
      "memory usage: 3.0+ MB\n",
      "None\n",
      "                 Id           Age        Income    Emp_length        Amount  \\\n",
      "count  32581.000000  32581.000000  3.258100e+04  31686.000000  32581.000000   \n",
      "mean   16290.006139     27.734600  6.607485e+04      4.789686   9589.371106   \n",
      "std     9405.479594      6.348078  6.198312e+04      4.142630   6322.086646   \n",
      "min        0.000000     20.000000  4.000000e+03      0.000000    500.000000   \n",
      "25%     8145.000000     23.000000  3.850000e+04      2.000000   5000.000000   \n",
      "50%    16290.000000     26.000000  5.500000e+04      4.000000   8000.000000   \n",
      "75%    24435.000000     30.000000  7.920000e+04      7.000000  12200.000000   \n",
      "max    32780.000000    144.000000  6.000000e+06    123.000000  35000.000000   \n",
      "\n",
      "               Rate        Status  Percent_income   Cred_length  \n",
      "count  29465.000000  32581.000000    32581.000000  32581.000000  \n",
      "mean      11.011695      0.218164        0.170203      5.804211  \n",
      "std        3.240459      0.413006        0.106782      4.055001  \n",
      "min        5.420000      0.000000        0.000000      2.000000  \n",
      "25%        7.900000      0.000000        0.090000      3.000000  \n",
      "50%       10.990000      0.000000        0.150000      4.000000  \n",
      "75%       13.470000      0.000000        0.230000      8.000000  \n",
      "max       23.220000      1.000000        0.830000     30.000000  \n"
     ]
    }
   ],
   "source": [
    "import pandas as pd\n",
    "import numpy as np\n",
    "import matplotlib.pyplot as plt\n",
    "import seaborn as sns\n",
    "\n",
    "from sklearn.cluster import KMeans\n",
    "from sklearn.preprocessing import LabelEncoder\n",
    "from sklearn.preprocessing import StandardScaler\n",
    "from sklearn.metrics import silhouette_score\n",
    "\n",
    "\n",
    "# Cargamos el dataset\n",
    "df = pd.read_csv('credit_risk.csv')\n",
    "\n",
    "#Informacion del dataset\n",
    "print(df.head())\n",
    "print(df.info())\n",
    "print(df.describe())"
   ]
  },
  {
   "cell_type": "markdown",
   "metadata": {},
   "source": [
    "## Visualización de datos"
   ]
  },
  {
   "cell_type": "code",
   "execution_count": null,
   "metadata": {},
   "outputs": [],
   "source": [
    "plt.clf()\n",
    "fig, axs = plt.subplots(1,3, figsize = (13,4))\n",
    "\n",
    "\n",
    "sns.boxplot(data=df, y = 'Amount', ax = axs[0])\n",
    "sns.boxplot(data=df, y = 'Age', ax = axs[1])\n",
    "sns.boxplot(data=df, y = 'Percent_income', ax = axs[2])"
   ]
  },
  {
   "cell_type": "code",
   "execution_count": null,
   "metadata": {},
   "outputs": [],
   "source": [
    "plt.clf()\n",
    "fig, axs = plt.subplots(1,2, figsize = (12,4))\n",
    "\n",
    "\n",
    "sns.boxplot(data=df, y = 'Amount', x ='Home', ax = axs[0])\n",
    "sns.boxplot(data=df, y = 'Age', x = 'Default', ax = axs[1])\n"
   ]
  },
  {
   "cell_type": "code",
   "execution_count": null,
   "metadata": {},
   "outputs": [],
   "source": [
    "fig = plt.figure(figsize = (12,4))\n",
    "sns.boxplot(data=df, y = 'Rate', x= 'Intent')"
   ]
  },
  {
   "cell_type": "code",
   "execution_count": null,
   "metadata": {},
   "outputs": [],
   "source": [
    "fig = plt.figure()\n",
    "\n",
    "sns.countplot(data = df, y = 'Intent')\n",
    "\n",
    "plt.xlabel(\"Count\")\n",
    "plt.ylabel(\"Intents\")\n",
    "plt.title(\"Intents by quantity\")"
   ]
  },
  {
   "cell_type": "code",
   "execution_count": null,
   "metadata": {},
   "outputs": [],
   "source": [
    "fig = plt.figure()\n",
    "sns.histplot(data=df, x = 'Age', hue = 'Intent', bins=10, kde=True)\n",
    "\n",
    "plt.xlabel(\"Age\")\n",
    "plt.ylabel(\"Frequency\")\n",
    "plt.title(\"Age distribution\")"
   ]
  },
  {
   "cell_type": "code",
   "execution_count": null,
   "metadata": {},
   "outputs": [],
   "source": [
    "fig = plt.figure()\n",
    "sns.scatterplot(data=df, x = 'Cred_length', y = 'Age')\n",
    "\n",
    "\n",
    "plt.xlabel(\"Credit Length\")\n",
    "plt.ylabel(\"Age\")\n",
    "plt.title(\"Age vs credit length\")"
   ]
  },
  {
   "cell_type": "code",
   "execution_count": null,
   "metadata": {},
   "outputs": [],
   "source": [
    "corr = df.corr()\n",
    "sns.heatmap(data=corr,cmap='gnuplot', annot = False)"
   ]
  },
  {
   "cell_type": "markdown",
   "metadata": {},
   "source": [
    "## Preparación de los datos\n",
    "\n",
    "Se normalizan y limpian los datos, para después poder ser utilizados para el modelo de K-Means."
   ]
  },
  {
   "cell_type": "code",
   "execution_count": 3,
   "metadata": {},
   "outputs": [],
   "source": [
    "#Variables categoricas a codificar\n",
    "cat_cols = ['Home', 'Intent', 'Default']\n",
    "label_encoder = LabelEncoder()\n",
    "for col in cat_cols:\n",
    "    df[col] = label_encoder.fit_transform(df[col])\n",
    "\n",
    "# Variables numéricas a normalizar\n",
    "#numeric_cols = ['Age', 'Income', 'Emp_length', 'Amount', 'Rate', 'Status', 'Percent_income', 'Cred_length']\n",
    "#X = df.loc[:, numeric_cols]\n",
    "\n",
    "scaler = StandardScaler()\n",
    "X_norm = scaler.fit_transform(df)\n",
    "X_norm = pd.DataFrame(X_norm, columns=df.columns)\n",
    "\n",
    "# Remove NaNs\n",
    "X_norm = X_norm.fillna(0)"
   ]
  },
  {
   "cell_type": "markdown",
   "metadata": {},
   "source": [
    "## Prueba de K-Means\n",
    "\n",
    "Se generan distintos modelos de K-Means, variando el número de centroides utilizado. A través de esto logramos visualizar cómo es que se comporta la classificación para disntito número de agrupaciones, y determinar el optimo.\n",
    "\n",
    "Para ayudar a determinar el desempeño de cada uno de los modelos, dependiendo del número de centroides asignado, se utiliza la métrica sklearn.metrics.silhoutte_score.\n",
    "\n",
    "### ¿Qué es el 'Silhouette Score' como métrica de sklearn para evaluar K-Means?\n",
    "\n",
    "El **Silhouette Score** es una métrica utilizada para evaluar la calidad de un agrupamiento (clustering) obtenido mediante algoritmos como K-Means. Proporciona una medida de cuán bien separados están los clústeres y ayuda a determinar la cohesión y separación entre los grupos.\n",
    "\n",
    "El Silhouette Score se calcula para cada punto de datos y se basa en dos medidas:\n",
    "\n",
    "1. **a(i)**: La distancia promedio entre el punto de datos i y todos los demás puntos en el mismo clúster. Cuanto menor sea esta distancia, mejor, ya que indica que el punto está más cerca de otros puntos en su mismo clúster.\n",
    "\n",
    "2. **b(i)**: La distancia promedio entre el punto de datos i y todos los puntos en el clúster más cercano al que no pertenece. Cuanto mayor sea esta distancia, mejor, ya que indica que el punto está más alejado de los puntos en otros clústeres.\n",
    "\n",
    "El resultado del Silhouette Score varía entre -1 y 1. Cuanto mayor sea el valor, mejor será la calidad del agrupamiento:\n",
    "\n",
    "- Si el valor es cercano a 1, significa que los clústeres están bien separados y cada punto está cerca de otros puntos en su mismo clúster, lo que indica un buen agrupamiento.\n",
    "- Si el valor es cercano a 0, indica que los clústeres pueden estar superpuestos y no hay una clara separación.\n",
    "- Si el valor es cercano a -1, significa que los puntos podrían estar asignados incorrectamente a clústeres y deberían estar en otros grupos."
   ]
  },
  {
   "cell_type": "code",
   "execution_count": null,
   "metadata": {},
   "outputs": [],
   "source": [
    "kmax   = 8 # Número máximo de clusters para los grupos de riesgo\n",
    "grupos = range(2, kmax)\n",
    "wcss   = []\n",
    "sil_score = []\n",
    "\n",
    "# Ciclo para calcular K-Means para diferentes k\n",
    "for k in grupos:\n",
    "    model = KMeans(n_clusters=k, random_state = 30)\n",
    "    clusters = model.fit_predict(X_norm)\n",
    "    wcss.append(model.inertia_)\n",
    "    sil_score.append(silhouette_score(X_norm, clusters))\n",
    "\n",
    "# Graficar WCSS y Silhouette Score\n",
    "fig, axs = plt.subplots(1, 2, figsize=(15, 6))\n",
    "\n",
    "# Método del codo\n",
    "axs[0].plot(grupos, wcss)\n",
    "axs[0].set_title('Método del codo')\n",
    "\n",
    "# Silhouette Score\n",
    "axs[1].plot(grupos, sil_score)\n",
    "axs[1].set_title('Silhouette Score')"
   ]
  },
  {
   "cell_type": "markdown",
   "metadata": {},
   "source": [
    "## 'Predicción' o classificación de los datos\n",
    "\n",
    "A traves de esta sección se busca generar la mejor versión del modelo encontrada en las pruebas pasadas, para facilitar visualizar las relaciones encontradas por el método de machine learning, para poder determinar cuales características definen los distintos perfiles de riesgo crediticio."
   ]
  },
  {
   "cell_type": "code",
   "execution_count": 4,
   "metadata": {},
   "outputs": [
    {
     "name": "stderr",
     "output_type": "stream",
     "text": [
      "/home/david/.local/lib/python3.10/site-packages/sklearn/cluster/_kmeans.py:1412: FutureWarning: The default value of `n_init` will change from 10 to 'auto' in 1.4. Set the value of `n_init` explicitly to suppress the warning\n",
      "  super()._check_params_vs_input(X, default_n_init=10)\n"
     ]
    },
    {
     "data": {
      "text/html": [
       "<div>\n",
       "<style scoped>\n",
       "    .dataframe tbody tr th:only-of-type {\n",
       "        vertical-align: middle;\n",
       "    }\n",
       "\n",
       "    .dataframe tbody tr th {\n",
       "        vertical-align: top;\n",
       "    }\n",
       "\n",
       "    .dataframe thead th {\n",
       "        text-align: right;\n",
       "    }\n",
       "</style>\n",
       "<table border=\"1\" class=\"dataframe\">\n",
       "  <thead>\n",
       "    <tr style=\"text-align: right;\">\n",
       "      <th></th>\n",
       "      <th>Id</th>\n",
       "      <th>Age</th>\n",
       "      <th>Income</th>\n",
       "      <th>Home</th>\n",
       "      <th>Emp_length</th>\n",
       "      <th>Intent</th>\n",
       "      <th>Amount</th>\n",
       "      <th>Rate</th>\n",
       "      <th>Status</th>\n",
       "      <th>Percent_income</th>\n",
       "      <th>Default</th>\n",
       "      <th>Cred_length</th>\n",
       "      <th>Grupo_riesgo</th>\n",
       "    </tr>\n",
       "  </thead>\n",
       "  <tbody>\n",
       "    <tr>\n",
       "      <th>0</th>\n",
       "      <td>0</td>\n",
       "      <td>22</td>\n",
       "      <td>59000</td>\n",
       "      <td>3</td>\n",
       "      <td>123.0</td>\n",
       "      <td>4</td>\n",
       "      <td>35000</td>\n",
       "      <td>16.02</td>\n",
       "      <td>1</td>\n",
       "      <td>0.59</td>\n",
       "      <td>1</td>\n",
       "      <td>3</td>\n",
       "      <td>1</td>\n",
       "    </tr>\n",
       "    <tr>\n",
       "      <th>1</th>\n",
       "      <td>1</td>\n",
       "      <td>21</td>\n",
       "      <td>9600</td>\n",
       "      <td>2</td>\n",
       "      <td>5.0</td>\n",
       "      <td>1</td>\n",
       "      <td>1000</td>\n",
       "      <td>11.14</td>\n",
       "      <td>0</td>\n",
       "      <td>0.10</td>\n",
       "      <td>0</td>\n",
       "      <td>2</td>\n",
       "      <td>3</td>\n",
       "    </tr>\n",
       "    <tr>\n",
       "      <th>2</th>\n",
       "      <td>2</td>\n",
       "      <td>25</td>\n",
       "      <td>9600</td>\n",
       "      <td>0</td>\n",
       "      <td>1.0</td>\n",
       "      <td>3</td>\n",
       "      <td>5500</td>\n",
       "      <td>12.87</td>\n",
       "      <td>1</td>\n",
       "      <td>0.57</td>\n",
       "      <td>0</td>\n",
       "      <td>3</td>\n",
       "      <td>1</td>\n",
       "    </tr>\n",
       "    <tr>\n",
       "      <th>3</th>\n",
       "      <td>3</td>\n",
       "      <td>23</td>\n",
       "      <td>65500</td>\n",
       "      <td>3</td>\n",
       "      <td>4.0</td>\n",
       "      <td>3</td>\n",
       "      <td>35000</td>\n",
       "      <td>15.23</td>\n",
       "      <td>1</td>\n",
       "      <td>0.53</td>\n",
       "      <td>0</td>\n",
       "      <td>2</td>\n",
       "      <td>1</td>\n",
       "    </tr>\n",
       "    <tr>\n",
       "      <th>4</th>\n",
       "      <td>4</td>\n",
       "      <td>24</td>\n",
       "      <td>54400</td>\n",
       "      <td>3</td>\n",
       "      <td>8.0</td>\n",
       "      <td>3</td>\n",
       "      <td>35000</td>\n",
       "      <td>14.27</td>\n",
       "      <td>1</td>\n",
       "      <td>0.55</td>\n",
       "      <td>1</td>\n",
       "      <td>4</td>\n",
       "      <td>1</td>\n",
       "    </tr>\n",
       "  </tbody>\n",
       "</table>\n",
       "</div>"
      ],
      "text/plain": [
       "   Id  Age  Income  Home  Emp_length  Intent  Amount   Rate  Status  \\\n",
       "0   0   22   59000     3       123.0       4   35000  16.02       1   \n",
       "1   1   21    9600     2         5.0       1    1000  11.14       0   \n",
       "2   2   25    9600     0         1.0       3    5500  12.87       1   \n",
       "3   3   23   65500     3         4.0       3   35000  15.23       1   \n",
       "4   4   24   54400     3         8.0       3   35000  14.27       1   \n",
       "\n",
       "   Percent_income  Default  Cred_length Grupo_riesgo  \n",
       "0            0.59        1            3            1  \n",
       "1            0.10        0            2            3  \n",
       "2            0.57        0            3            1  \n",
       "3            0.53        0            2            1  \n",
       "4            0.55        1            4            1  "
      ]
     },
     "execution_count": 4,
     "metadata": {},
     "output_type": "execute_result"
    }
   ],
   "source": [
    "model = KMeans(n_clusters=4, random_state=30)\n",
    "clusters = model.fit_predict(X_norm)\n",
    "\n",
    "df['Grupo_riesgo'] = clusters.astype('str')\n",
    "df.head()"
   ]
  },
  {
   "cell_type": "markdown",
   "metadata": {},
   "source": [
    "## Análisis y conclusiones"
   ]
  },
  {
   "cell_type": "code",
   "execution_count": 10,
   "metadata": {},
   "outputs": [
    {
     "data": {
      "text/plain": [
       "Text(0.5, 1.0, '4 grupos de riesgo')"
      ]
     },
     "execution_count": 10,
     "metadata": {},
     "output_type": "execute_result"
    },
    {
     "data": {
      "image/png": "[encoded data removed]",
      "text/plain": [
       "<Figure size 640x480 with 1 Axes>"
      ]
     },
     "metadata": {},
     "output_type": "display_data"
    }
   ],
   "source": [
    "#sns.pairplot(data=df, hue='Grupo_riesgo', palette='tab10')\n",
    "#plt.suptitle('4 grups de riesgo')\n",
    "\n",
    "# Gráfico\n",
    "sns.histplot(data=df, x='Id', hue='Grupo_riesgo', palette='tab10')\n",
    "\n",
    "# Ejes y título\n",
    "plt.xlabel('Id del aplicante')\n",
    "plt.ylabel('Grupo de riesgo')\n",
    "plt.title('4 grupos de riesgo')"
   ]
  }
 ],
 "metadata": {
  "kernelspec": {
   "display_name": "Python 3",
   "language": "python",
   "name": "python3"
  },
  "language_info": {
   "codemirror_mode": {
    "name": "ipython",
    "version": 3
   },
   "file_extension": ".py",
   "mimetype": "text/x-python",
   "name": "python",
   "nbconvert_exporter": "python",
   "pygments_lexer": "ipython3",
   "version": "3.10.12"
  },
  "orig_nbformat": 4
 },
 "nbformat": 4,
 "nbformat_minor": 2
}
