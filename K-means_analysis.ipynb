{
 "cells": [
  {
   "cell_type": "markdown",
   "metadata": {},
   "source": [
    "# K-Means analysis \n",
    "\n",
    "Los datos para este trabajo fueron tomados de la plataforma Kaggle:\n",
    "https://www.kaggle.com/datasets/nanditapore/credit-risk-analysis?resource=download\n",
    "\n",
    "## ¿Qué es K-means?\n",
    "**K-means** es un algoritmo de clustering (agrupamiento) que se utiliza en aprendizaje no supervisado para dividir un conjunto de datos en grupos o clústeres basados en la similitud de sus elementos. El objetivo del algoritmo K-means es particionar los datos en K clústeres de tal manera que cada punto de datos pertenezca al clúster cuyo centroide (punto central) es el más cercano. En resumen, K-means busca encontrar K centroides que minimicen la suma de las distancias cuadradas entre los puntos de datos y sus centroides asignados.\n",
    "\n",
    "**K-means++**, por otro lado, es una mejora del algoritmo K-means que se utiliza para inicializar los centroides de manera más eficiente y efectiva. En K-means tradicional, la inicialización de los centroides puede ser aleatoria, lo que puede llevar a soluciones subóptimas o convergencia a mínimos locales. K-means++ aborda este problema seleccionando los centroides iniciales de una manera que aumenta las posibilidades de converger a una solución de alta calidad.\n",
    "\n",
    "Dentro del código de estre trabajo no se especifica de manera explícita que se está trabajando con K-Means++, pero por default sklearn.cluster.KMeans trabaja con la versión optimizada de este método de clustering.\n",
    "\n",
    "## ¿En qué consiste la información del dataset seleccionado?\n",
    "La descripción que se proporciona en la plataforma de Kaggle para este set de datos menciona lo siguiente: \n",
    "_\"This dataset offers a simplified view of the factors that contribute to credit risk, making it an excellent opportunity for data scientists ...\"_\n",
    "\n",
    "## ¿Qué se busca analizar a través del uso de K-Means?\n",
    "A través del uso de K-Means, se busca analizar y agrupar a los individuos o elementos en categorías o **clústeres que compartan similitudes en sus perfiles de riesgo crediticio**. Esto permitirá una comprensión más profunda de los factores que contribuyen al riesgo crediticio y facilitará la toma de decisiones informadas en el ámbito financiero. Los clústeres obtenidos pueden representar grupos de individuos con características crediticias similares, lo que puede ser útil para segmentar la clientela, identificar tendencias y patrones, y mejorar la gestión de riesgos crediticios."
   ]
  },
  {
   "cell_type": "code",
   "execution_count": 1,
   "metadata": {},
   "outputs": [
    {
     "name": "stdout",
     "output_type": "stream",
     "text": [
      "   Id  Age  Income      Home  Emp_length     Intent  Amount   Rate  Status  \\\n",
      "0   0   22   59000      RENT       123.0   PERSONAL   35000  16.02       1   \n",
      "1   1   21    9600       OWN         5.0  EDUCATION    1000  11.14       0   \n",
      "2   2   25    9600  MORTGAGE         1.0    MEDICAL    5500  12.87       1   \n",
      "3   3   23   65500      RENT         4.0    MEDICAL   35000  15.23       1   \n",
      "4   4   24   54400      RENT         8.0    MEDICAL   35000  14.27       1   \n",
      "\n",
      "   Percent_income Default  Cred_length  \n",
      "0            0.59       Y            3  \n",
      "1            0.10       N            2  \n",
      "2            0.57       N            3  \n",
      "3            0.53       N            2  \n",
      "4            0.55       Y            4  \n",
      "<class 'pandas.core.frame.DataFrame'>\n",
      "RangeIndex: 32581 entries, 0 to 32580\n",
      "Data columns (total 12 columns):\n",
      " #   Column          Non-Null Count  Dtype  \n",
      "---  ------          --------------  -----  \n",
      " 0   Id              32581 non-null  int64  \n",
      " 1   Age             32581 non-null  int64  \n",
      " 2   Income          32581 non-null  int64  \n",
      " 3   Home            32581 non-null  object \n",
      " 4   Emp_length      31686 non-null  float64\n",
      " 5   Intent          32581 non-null  object \n",
      " 6   Amount          32581 non-null  int64  \n",
      " 7   Rate            29465 non-null  float64\n",
      " 8   Status          32581 non-null  int64  \n",
      " 9   Percent_income  32581 non-null  float64\n",
      " 10  Default         32581 non-null  object \n",
      " 11  Cred_length     32581 non-null  int64  \n",
      "dtypes: float64(3), int64(6), object(3)\n",
      "memory usage: 3.0+ MB\n",
      "None\n",
      "                 Id           Age        Income    Emp_length        Amount  \\\n",
      "count  32581.000000  32581.000000  3.258100e+04  31686.000000  32581.000000   \n",
      "mean   16290.006139     27.734600  6.607485e+04      4.789686   9589.371106   \n",
      "std     9405.479594      6.348078  6.198312e+04      4.142630   6322.086646   \n",
      "min        0.000000     20.000000  4.000000e+03      0.000000    500.000000   \n",
      "25%     8145.000000     23.000000  3.850000e+04      2.000000   5000.000000   \n",
      "50%    16290.000000     26.000000  5.500000e+04      4.000000   8000.000000   \n",
      "75%    24435.000000     30.000000  7.920000e+04      7.000000  12200.000000   \n",
      "max    32780.000000    144.000000  6.000000e+06    123.000000  35000.000000   \n",
      "\n",
      "               Rate        Status  Percent_income   Cred_length  \n",
      "count  29465.000000  32581.000000    32581.000000  32581.000000  \n",
      "mean      11.011695      0.218164        0.170203      5.804211  \n",
      "std        3.240459      0.413006        0.106782      4.055001  \n",
      "min        5.420000      0.000000        0.000000      2.000000  \n",
      "25%        7.900000      0.000000        0.090000      3.000000  \n",
      "50%       10.990000      0.000000        0.150000      4.000000  \n",
      "75%       13.470000      0.000000        0.230000      8.000000  \n",
      "max       23.220000      1.000000        0.830000     30.000000  \n"
     ]
    }
   ],
   "source": [
    "import pandas as pd\n",
    "import numpy as np\n",
    "import matplotlib.pyplot as plt\n",
    "import seaborn as sns\n",
    "from sklearn.cluster import KMeans\n",
    "\n",
    "# Cargamos el dataset\n",
    "df = pd.read_csv('credit_risk.csv')\n",
    "\n",
    "#Informacion del dataset\n",
    "print(df.head())\n",
    "print(df.info())\n",
    "print(df.describe())"
   ]
  },
  {
   "cell_type": "markdown",
   "metadata": {},
   "source": [
    "## Preparación de los datos\n",
    "\n",
    "Se normalizan y limpian los datos, para después poder ser utilizados para el modelo de K-Means."
   ]
  },
  {
   "cell_type": "code",
   "execution_count": null,
   "metadata": {},
   "outputs": [],
   "source": []
  },
  {
   "cell_type": "markdown",
   "metadata": {},
   "source": [
    "## Prueba de K-Means\n",
    "\n",
    "Se generan distintos modelos de K-Means, variando el número de centroides utilizado. A través de esto logramos visualizar cómo es que se comporta la classificación para disntito número de agrupaciones, y determinar el optimo."
   ]
  },
  {
   "cell_type": "code",
   "execution_count": null,
   "metadata": {},
   "outputs": [],
   "source": [
    "kmax   = 16\n",
    "grupos = range(2, kmax)\n",
    "wcss   = []\n",
    "sil_score = []\n",
    "\n",
    "# Ciclo para calcular K-Means para diferentes k\n",
    "for k in grupos:\n",
    "    # Clustering\n",
    "    model = KMeans(n_clusters=k, random_state = 47)\n",
    "\n",
    "    # Obtener las etiquetas\n",
    "    clusters = model.fit_predict(X_norm)\n",
    "\n",
    "    # Guardar WCSS\n",
    "    wcss.append(model.inertia_)\n",
    "\n",
    "    # Guardar Silhouette Score\n",
    "    sil_score.append(silhouette_score(X_norm, clusters))\n",
    "\n",
    "# Graficaremos el codo y silhouette score en la misma gráfica. Recorda que \n",
    "# subplots nos permite tener más gráficas en la misma figura.\n",
    "fig, axs = plt.subplots(1, 2, figsize=(15, 6))\n",
    "\n",
    "# Primera figura es el codo\n",
    "axs[0].plot(grupos, wcss)\n",
    "axs[0].set_title('Método del codo')\n",
    "\n",
    "# La segunda es el Silhouette Score\n",
    "axs[1].plot(grupos, sil_score)\n",
    "axs[1].set_title('Silhouette Score')"
   ]
  },
  {
   "cell_type": "markdown",
   "metadata": {},
   "source": [
    "## 'Predicción' o classificación de los datos\n",
    "\n",
    "A traves de esta sección se busca poder visualizar las relaciones encontradas por el método de machine learning, para poder determinar cuales características definen los distintos perfiles de riesgo crediticio."
   ]
  },
  {
   "cell_type": "code",
   "execution_count": null,
   "metadata": {},
   "outputs": [],
   "source": [
    "# Generamos los 6 grupos\n",
    "model = KMeans(n_clusters=6, random_state=47)\n",
    "clusters = model.fit_predict(X_norm)\n",
    "\n",
    "# Agregamos los clusters a nuestros DATOS ORIGINALES\n",
    "df['Grupo'] = clusters.astype('str')\n",
    "df.head()"
   ]
  }
 ],
 "metadata": {
  "kernelspec": {
   "display_name": "Python 3",
   "language": "python",
   "name": "python3"
  },
  "language_info": {
   "codemirror_mode": {
    "name": "ipython",
    "version": 3
   },
   "file_extension": ".py",
   "mimetype": "text/x-python",
   "name": "python",
   "nbconvert_exporter": "python",
   "pygments_lexer": "ipython3",
   "version": "3.10.12"
  },
  "orig_nbformat": 4
 },
 "nbformat": 4,
 "nbformat_minor": 2
}
